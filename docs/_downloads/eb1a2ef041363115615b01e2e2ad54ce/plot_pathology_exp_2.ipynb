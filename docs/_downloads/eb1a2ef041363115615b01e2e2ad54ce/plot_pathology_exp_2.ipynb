{
  "cells": [
    {
      "cell_type": "code",
      "execution_count": null,
      "metadata": {
        "collapsed": false
      },
      "outputs": [],
      "source": [
        "%matplotlib inline"
      ]
    },
    {
      "cell_type": "markdown",
      "metadata": {},
      "source": [
        "\n# Experiment 2 and 3 (a)\n\nPerforming feature selection to select FBC panel and plotting the\nfeature distributions.\n"
      ]
    },
    {
      "cell_type": "markdown",
      "metadata": {},
      "source": [
        "Import the relevant libraries first\n\n"
      ]
    },
    {
      "cell_type": "code",
      "execution_count": null,
      "metadata": {
        "collapsed": false
      },
      "outputs": [],
      "source": [
        "import numpy as np \nimport pandas as pd\nimport matplotlib.pyplot as plt\nimport seaborn as sns\nfrom scipy import stats\nimport warnings\nwarnings.filterwarnings(\"ignore\")\nfrom sklearn import preprocessing\nfrom labimputer.utils.load_dataset import remove_data_outliers"
      ]
    },
    {
      "cell_type": "markdown",
      "metadata": {},
      "source": [
        "## Data import \n\n"
      ]
    },
    {
      "cell_type": "code",
      "execution_count": null,
      "metadata": {
        "collapsed": false
      },
      "outputs": [],
      "source": [
        "# Set relative data path and set FBC panel list\npath_data = '../resources/datasets/nhs/Transformed_First_FBC_dataset.csv'\n\nFBC_CODES = sorted([\"EOS\", \"MONO\", \"BASO\", \"NEUT\", \"RBC\", \"WBC\", \n                \"MCHC\", \"MCV\", \"LY\", \"HCT\", \"RDW\", \"HGB\", \n                \"MCH\", \"PLT\", \"MPV\", \"NRBCA\"])\n\n# Read data and drop Nan _uid records\ndf = pd.read_csv(path_data).dropna(subset=['pid'])\n\n# Reset index for compatibility\ndf.reset_index(drop=True, inplace=True)"
      ]
    },
    {
      "cell_type": "markdown",
      "metadata": {},
      "source": [
        "## Violin plots for raw data\n\n"
      ]
    },
    {
      "cell_type": "code",
      "execution_count": null,
      "metadata": {
        "collapsed": false
      },
      "outputs": [],
      "source": [
        "# Obtain the biomarkers DataFrame only\nbiomarkers_df = df[FBC_CODES].dropna(subset=FBC_CODES)\n\n# Set figure size\nplt.figure(figsize=(15,15))\n\n# Set single title for all figures\nplt.suptitle('Violin plot for raw data', \n            fontweight='bold', \n            fontsize=20)\n\n# Loop\nfor plot_idx, biomarker in enumerate(biomarkers_df, start=1):\n    \n    plt.subplot(4,4,plot_idx)\n    \n    sns.violinplot(data=biomarkers_df[biomarker], \n                color='skyblue',\n                orient='h')\n    \n    plt.xticks(fontsize=12)\n    plt.xlabel(f'{biomarker}', \n            fontweight='bold', \n            fontsize=12)\n\n# Space out plots \nplt.tight_layout()\n    \n# Show\nplt.show()"
      ]
    },
    {
      "cell_type": "markdown",
      "metadata": {},
      "source": [
        "## Violin plots without outliers\n\n"
      ]
    },
    {
      "cell_type": "code",
      "execution_count": null,
      "metadata": {
        "collapsed": false
      },
      "outputs": [],
      "source": [
        "# Remove outliers from dataset using Z-Score method\ncomplete_profiles, outlier_count = remove_data_outliers(biomarkers_df)\n\n# Set figure size\nplt.figure(figsize=(15,15))\n\n# Set single title for all figures\nplt.suptitle('Violin plot for complete profiles', \n            fontweight='bold', \n            fontsize=20)\n\nfor plot_idx, biomarker in enumerate(complete_profiles, start=1):\n    \n    plt.subplot(4,4,plot_idx)\n    \n    sns.violinplot(data=complete_profiles[biomarker], \n                color='skyblue',\n                orient='h')\n    \n    plt.xticks(fontsize=12)\n    plt.xlabel(f'{biomarker}', \n            fontweight='bold', \n            fontsize=12)\n\n# Space out plots \nplt.tight_layout()\n    \n# Show\nplt.show()"
      ]
    },
    {
      "cell_type": "markdown",
      "metadata": {},
      "source": [
        "## Jarque-Bera (JB) test for normality\n\n"
      ]
    },
    {
      "cell_type": "code",
      "execution_count": null,
      "metadata": {
        "collapsed": false
      },
      "outputs": [],
      "source": [
        "# Standardise data \nstd_complete_profiles = preprocessing.StandardScaler().fit_transform(complete_profiles)\n\n# Create DataFrame of standardised data\nnorm_profiles = pd.DataFrame(data=std_complete_profiles, columns=complete_profiles.columns)\n\n# Dataframe to store JB Test \nnorm_scores = pd.DataFrame(columns=complete_profiles.columns)\n\n# Note: JB test is only valid on datasets with n > 2000 where n are samples\n# in the dataset. The complete profile data set contains 56271 records. \n\n# Loop\nfor biomarker in complete_profiles.columns:\n\n    # Calculate and store JB test statistic and p-value for each biomarker\n    jb_test = stats.jarque_bera(complete_profiles[biomarker])\n    norm_scores[biomarker] = jb_test\n\n# Rename norm_scores for compatibility\nnorm_scores.index = ['Test Statistic', 'P-Value']\n\n# Display\nnorm_scores.T"
      ]
    }
  ],
  "metadata": {
    "kernelspec": {
      "display_name": "Python 3",
      "language": "python",
      "name": "python3"
    },
    "language_info": {
      "codemirror_mode": {
        "name": "ipython",
        "version": 3
      },
      "file_extension": ".py",
      "mimetype": "text/x-python",
      "name": "python",
      "nbconvert_exporter": "python",
      "pygments_lexer": "ipython3",
      "version": "3.7.6"
    }
  },
  "nbformat": 4,
  "nbformat_minor": 0
}