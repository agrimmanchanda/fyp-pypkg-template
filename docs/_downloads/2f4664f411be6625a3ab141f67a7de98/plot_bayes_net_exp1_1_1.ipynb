{
  "cells": [
    {
      "cell_type": "code",
      "execution_count": null,
      "metadata": {
        "collapsed": false
      },
      "outputs": [],
      "source": [
        "%matplotlib inline"
      ]
    },
    {
      "cell_type": "markdown",
      "metadata": {},
      "source": [
        "\n# Experiment 1: Model Evaluation\n\nThe aim of this experiment was to remove a single feature from the data set \nand use the remaining features to predict its values to emulate a simple \nregression model with Bayesian Networks. This script has results from model evaluation.\n"
      ]
    },
    {
      "cell_type": "markdown",
      "metadata": {},
      "source": [
        "## Libraries import\n\n"
      ]
    },
    {
      "cell_type": "code",
      "execution_count": null,
      "metadata": {
        "collapsed": false
      },
      "outputs": [],
      "source": [
        "# Libraries generic\nimport numpy as np\nimport pandas as pd\nimport sklearn\nimport seaborn as sns\nimport matplotlib.pyplot as plt\nimport warnings\nwarnings.filterwarnings(\"ignore\")\nimport networkx as nx\nimport joblib\n\n# Libraries sklearn\nfrom sklearn.pipeline import Pipeline\nfrom sklearn.model_selection import KFold\nfrom sklearn.model_selection import cross_validate\nfrom sklearn.preprocessing import StandardScaler, KBinsDiscretizer\nfrom sklearn.model_selection import train_test_split\n\n# Regressors\nfrom sklearn.linear_model import LinearRegression\nfrom sklearn.linear_model import Ridge\nfrom sklearn.linear_model import BayesianRidge\nfrom sklearn.ensemble import RandomForestRegressor\nfrom sklearn.tree import DecisionTreeRegressor\nfrom sklearn.ensemble import ExtraTreesRegressor\nfrom sklearn.linear_model import SGDRegressor\nfrom sklearn.neighbors import KNeighborsRegressor\nfrom sklearn.neural_network import MLPRegressor\nfrom xgboost import XGBRegressor\n\n# Metrics\nfrom sklearn.metrics import make_scorer\nfrom sklearn.metrics import mean_squared_error\n\n# Custom Packages\nfrom labimputer.utils.load_dataset import remove_data_outliers\nfrom labimputer.utils.iter_imp import corr_pairs, get_score_statistics, rmse, norm_rmse, rmsle, get_test_scores, nae, get_best_models, get_cvts_delta\nfrom labimputer.core.bayes_net import BNRegressor\nfrom labimputer.core.iter_imp import IterativeImputerRegressor, SimpleImputerRegressor\nfrom labimputer.utils.bayes_net import get_data_statistics"
      ]
    },
    {
      "cell_type": "markdown",
      "metadata": {},
      "source": [
        "## Data import \n\n"
      ]
    },
    {
      "cell_type": "code",
      "execution_count": null,
      "metadata": {
        "collapsed": false
      },
      "outputs": [],
      "source": [
        "# Set relative data path and set FBC panel list\npath_data = '../resources/datasets/nhs/Transformed_First_FBC_dataset.csv'\n\n# Define FBC panel for the experiment\nFBC_CODES = sorted([\"EOS\", \"MONO\", \"BASO\", \"NEUT\", \"RBC\", \"WBC\", \n                \"MCHC\", \"MCV\", \"LY\", \"HCT\", \"RDW\", \"HGB\", \n                \"MCH\", \"PLT\", \"MPV\", \"NRBCA\"])\n\nRBC_ANALYTES = ['HCT', 'HGB', 'RBC', 'MCH', 'MCV', 'MCHC', 'RDW']\nWBC_ANALYTES = ['EOS', 'MONO', 'LY', 'NEUT', 'WBC']\nPLT_ANALYTES = ['PLT', 'MPV']\n\n# Read data and drop Nan _uid records\ndf = pd.read_csv(path_data).dropna(subset=['pid'])\n\n# Reset the index to easily count all test records\ndf.reset_index(drop=True, inplace=True)\n\n# Obtain the biomarkers DataFrame only\nraw_data = df[FBC_CODES].dropna(subset=FBC_CODES)\n\n# Remove outliers from dataset\ncomplete_profiles, _ = remove_data_outliers(raw_data)\n\n# Constant variables to drop\nDROP_FEATURES = ['BASO', 'NRBCA']\n\n# Complete profiles for complete case analysis\ncomplete_profiles = complete_profiles.drop(DROP_FEATURES, axis=1)\n\nFBC_PANEL = complete_profiles.columns"
      ]
    },
    {
      "cell_type": "markdown",
      "metadata": {},
      "source": [
        "## Define tuned estimators\n\n"
      ]
    },
    {
      "cell_type": "code",
      "execution_count": null,
      "metadata": {
        "collapsed": false
      },
      "outputs": [],
      "source": [
        "_TUNED_ESTIMATORS = {\n    'median': SimpleImputerRegressor(\n        strategy='median'\n    ),\n    'BN': BNRegressor(FBC_PANEL)\n}"
      ]
    },
    {
      "cell_type": "markdown",
      "metadata": {},
      "source": [
        "## Correlation matrix\n\n"
      ]
    },
    {
      "cell_type": "code",
      "execution_count": null,
      "metadata": {
        "collapsed": false
      },
      "outputs": [],
      "source": [
        "# Calculate correlation matrix using Pearson Correlation Coefficient\ncorr_mat = complete_profiles.corr(method='pearson')\n\n# Show\nprint(\"\\nData:\")\nprint(complete_profiles)\nprint(\"\\nCorrelation (pearson):\")\nprint(corr_mat)"
      ]
    },
    {
      "cell_type": "markdown",
      "metadata": {},
      "source": [
        "## Split into train-test\n\n"
      ]
    },
    {
      "cell_type": "code",
      "execution_count": null,
      "metadata": {
        "collapsed": false
      },
      "outputs": [],
      "source": [
        "SEED = 8\n\n# Train-test split of 80:20\ntrain_set, test_set = train_test_split(complete_profiles, shuffle=False, test_size=0.2, random_state=8)"
      ]
    },
    {
      "cell_type": "markdown",
      "metadata": {},
      "source": [
        "## Five fold cross validation (CVTS)\n\n"
      ]
    },
    {
      "cell_type": "code",
      "execution_count": null,
      "metadata": {
        "collapsed": false
      },
      "outputs": [],
      "source": [
        "# Number of splits\nn_splits = 5\n\n# Create Kfold instance\nskf = KFold(n_splits=n_splits, shuffle=False)\n\n# Scoring\nscoring = {\n    'nmae': 'neg_mean_absolute_error', # MAE\n    'nmse': 'neg_mean_squared_error',       # MSE\n    'nrmse': 'neg_root_mean_squared_error', # RMSE\n    'rmsle': make_scorer(rmsle), # RMSLE\n    'norm_rmse': make_scorer(norm_rmse), # NRMSE\n}\n\n# Compendium of results\nbn_results = pd.DataFrame()\n\n# Create a list of estimators\nESTIMATORS = [\n    # 'median',\n    # 'BN',\n]\n\nrun_eval = False\n\nif run_eval:\n\n    # Collect relevant scores\n    test_scores = pd.DataFrame()\n\n    # Loop over each estimator\n\n    for biomarker in complete_profiles:\n\n        for est in ['bn', 'median']:\n\n            estimator = _TUNED_ESTIMATORS[est]\n\n            if est == 'bn':\n                imputer = BNRegressor(FBC_PANEL)\n            else:\n                imputer = estimator\n\n            # Generate new train-test for each run\n            aux_train = train_set.copy()\n            aux_test = test_set.copy()\n\n            # Define independent (X_train) and dependent (y_train) variables\n            X_train = aux_train[[x for x in aux_train.columns if x != biomarker]]\n            y_train = aux_train[biomarker]\n\n            # Define same variables with test set\n            X_test = aux_test[[x for x in aux_test.columns if x != biomarker]]\n            y_test = aux_test[biomarker]\n\n            # Information\n            print(\"\\n Evaluating... %s for biomarker... %s\" % (est, biomarker))\n\n            # Create pipeline\n            pipe = Pipeline(steps=[ ('dis', KBinsDiscretizer(n_bins=5, encode='ordinal', strategy='uniform')),\n                                    (est, imputer)],\n                            verbose=True)\n\n            # Create array for training data\n            y_train_arr = y_train.to_numpy().reshape(-1, 1)\n\n            # Discretise the scaler as appropriate\n            discaler = pipe.named_steps['dis'].fit(y_train_arr)\n\n            # Save the discretiser\n            joblib.dump(discaler, f'discaler.sav')\n\n            # Transform the data\n            train_y = pd.Series(pipe.named_steps['dis'].transform(y_train_arr).flatten(), name=biomarker)\n\n            # Fit the data on newly transformed data\n            pipe.fit(X_train,train_y)\n\n            # Predict values on X_test data\n            y_pred = pipe.predict(X_test)\n\n            # Load the earlier saved discretiser\n            inscaler = joblib.load(f'discaler.sav')\n\n            # Inverse transform data to bring back to original form\n            y_pred_hat = inscaler.inverse_transform(y_pred.reshape(-1,1)).reshape(-1)\n\n            # Flatten the array to store in csv\n            y_test = y_test.to_numpy().flatten()\n\n            # Store results in DataFrame\n            if est != 'median':\n                true_pred_vals = pd.DataFrame(list(zip(y_test, y_pred)),\n                columns=[f'{biomarker}-{est}-true', f'{biomarker}-{est}-pred'])\n            else:\n                true_pred_vals = pd.Series(y_pred, name=f'{biomarker}-{est}')\n\n            test_scores = pd.concat([test_scores, true_pred_vals], axis=1)\n\n            test_scores.to_csv('datasets/bn_simple_test_results.csv')"
      ]
    },
    {
      "cell_type": "markdown",
      "metadata": {},
      "source": [
        "## Plot BN structure\n\n"
      ]
    },
    {
      "cell_type": "code",
      "execution_count": null,
      "metadata": {
        "collapsed": false
      },
      "outputs": [],
      "source": [
        "# Make a copy of the training set\naux_train = train_set.copy()\n\n# Discretise data into five bins\ndis = KBinsDiscretizer(n_bins=5, encode='ordinal', strategy='uniform')\n\n# Fit transform the discretised data\nXt = pd.DataFrame(dis.fit_transform(aux_train), columns=FBC_PANEL)\n\n# Found from training\nEDGES = [\n    ('HGB', 'RDW'),\n    ('HCT', 'HGB'),\n    ('HCT', 'RBC'),\n    ('MCV', 'RBC'),\n    ('MCV', 'MCHC'),\n    ('RDW', 'LY'),\n    ('RDW', 'MCH'),\n    ('PLT', 'WBC'),\n    ('WBC', 'MONO'),\n    ('WBC', 'NEUT'),\n    ('MCH', 'MCV'),\n    ('MCH', 'MCHC'),\n    ('MPV', 'PLT'),\n    ('LY', 'MONO'),\n    ('LY', 'NEUT'),\n    ('LY', 'WBC'),\n    ('LY', 'PLT'),\n    ('LY', 'EOS'),\n    ('RBC', 'MPV'),\n    ('RBC', 'LY'),\n]\n\n# Initialise the regressor with pre-defined edges (based on previous testing)\nm1 = BNRegressor(FBC_PANEL, EDGES)\n\n# Learn the data using the edges\nm1.fit(Xt)\n\n# Plot\nplt.figure(figsize=(10,8))\n\n# Define colour map for coding\ncolor_map = []\n\nfor node in m1:\n\n    if node in RBC_ANALYTES:\n        color_map.append('salmon')\n    elif node in WBC_ANALYTES:\n        color_map.append('skyblue')\n    else:\n        color_map.append('plum')\n\n# Draw the graph using networkx package\nnx.draw(m1, with_labels=True, \n    node_size = 3000, \n    node_color=color_map, \n    edgecolors='black', \n    font_weight='bold', \n    width=1.5)\n\n# Show\nplt.show()"
      ]
    },
    {
      "cell_type": "markdown",
      "metadata": {},
      "source": [
        "## RMSE scores for held out test set (HOTS)\n\n"
      ]
    },
    {
      "cell_type": "code",
      "execution_count": null,
      "metadata": {
        "collapsed": false
      },
      "outputs": [],
      "source": [
        "# Read results\nhots_results = pd.read_csv(f'datasets/bn_simple_test_results.csv', index_col=0)\n\n# Get test results that is split\ntest_results = get_data_statistics(hots_results, FBC_PANEL, 3)\n\n# Assign column names\ntest_results.columns = ['Bayesian Network', 'Median', 'MWU Test']\n\n# Obtain Delta value\ntest_results['Delta (%)'] = 100 - (100* (test_results['Bayesian Network']/test_results['Median']))\n\n# Get average for each model\ntest_results.loc['Mean'] = test_results.mean()\n\ntest_results"
      ]
    },
    {
      "cell_type": "markdown",
      "metadata": {},
      "source": [
        "## RMSE Score Plot for HOTS\n\n"
      ]
    },
    {
      "cell_type": "code",
      "execution_count": null,
      "metadata": {
        "collapsed": false
      },
      "outputs": [],
      "source": [
        "# Plot figure\nplt.figure(figsize=(20,8))\n\n# Plot bar plot\nplt1 = sns.barplot(x=test_results[:-1].index, y=test_results['Delta (%)'][:-1], color='#1f77b4')\n\n# Set xlabel as appropriate\nplt1.set_xlabel(\"Analyte\")\n\n# Show\nplt.show()"
      ]
    },
    {
      "cell_type": "markdown",
      "metadata": {},
      "source": [
        "## NAE distribution for HOTS\n\n"
      ]
    },
    {
      "cell_type": "code",
      "execution_count": null,
      "metadata": {
        "collapsed": false
      },
      "outputs": [],
      "source": [
        "# Extract data from the test results\ndata = np.split(hots_results.T.to_numpy(), len(hots_results.T.to_numpy())/3)\n\n# DataFrame to store NAE results\nnae_results = pd.DataFrame()\n\n# Loop for each analyte\nfor idx, values in enumerate(zip(data, FBC_PANEL)):\n    \n    # Extract all relevant values\n    y_true, y_pred, y_med = values[0][0], values[0][1], values[0][2]\n    \n    # Obtain NAE scores\n    nae_tp, nae_tm = nae(y_true, y_pred), nae(y_true, y_med)\n    \n    # Obtain all NAE vals\n    nae_vals = pd.DataFrame([nae_tp, \n    ['BN' for _ in range(len(nae_tp))], \n    [values[1] for _ in range(len(nae_tp))]]).T\n    \n    nae_vals_med = pd.DataFrame([nae_tm, \n    ['Median' for _ in range(len(nae_tm))], \n    [values[1] for _ in range(len(nae_tm))]]).T\n    \n    # Join with DataFrame\n    join = pd.concat([nae_vals, nae_vals_med], axis=0)\n    \n    nae_results = nae_results.append(join)\n\n# Set column names\nnae_results.columns = ['NAE', 'Model', 'Analyte']\n\n# Plot figure\nplt.figure(figsize=(15,5))\n\n# Create grouped boxplot \nsns.boxplot(x = nae_results['Analyte'],\n        y = nae_results['NAE'],\n        hue = nae_results['Model'],\n        showfliers=False)\n\n# Show\nplt.show()"
      ]
    }
  ],
  "metadata": {
    "kernelspec": {
      "display_name": "Python 3",
      "language": "python",
      "name": "python3"
    },
    "language_info": {
      "codemirror_mode": {
        "name": "ipython",
        "version": 3
      },
      "file_extension": ".py",
      "mimetype": "text/x-python",
      "name": "python",
      "nbconvert_exporter": "python",
      "pygments_lexer": "ipython3",
      "version": "3.7.6"
    }
  },
  "nbformat": 4,
  "nbformat_minor": 0
}