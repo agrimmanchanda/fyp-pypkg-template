{
  "cells": [
    {
      "cell_type": "code",
      "execution_count": null,
      "metadata": {
        "collapsed": false
      },
      "outputs": [],
      "source": [
        "%matplotlib inline"
      ]
    },
    {
      "cell_type": "markdown",
      "metadata": {},
      "source": [
        "\n# Pathology Data\n"
      ]
    },
    {
      "cell_type": "code",
      "execution_count": null,
      "metadata": {
        "collapsed": false
      },
      "outputs": [],
      "source": [
        "# Import\nimport numpy as np\nimport pandas as pd\nimport seaborn as sns \nimport matplotlib.pyplot as plt\nimport warnings\nwarnings.filterwarnings(\"ignore\")\n\n# DataBlend library\nfrom pkgname.utils.widgets import TidyWidget\n\n# ------------------------\n# Data handling \n# ------------------------\n# Define FBC panel and interest biochemical markers\n\nFBC_codes = [\"EOS\", \"MONO\", \"BASO\", \"NEUT\", \"RBC\", \"WBC\", \n                \"MCHC\", \"MCV\", \"LY\", \"HCT\", \"RDW\", \"HGB\", \n                \"MCH\", \"PLT\", \"MPV\", \"NRBCA\"]\n\nINTEREST_cols = [\"_uid\",\"dateResult\", \"orderCode\", \"result\", \"unit\", \"unitRange\"]\n\n# Parameters\nindex = ['_uid', 'dateResult', 'orderCode']\nvalue = 'result'\n\n# Function to sort by pid, datetime value\n\ndef change_pid_datetime_format(df):\n    df['pid'] = df['_uid'].str.extract('(\\d+)').astype(int)\n\n    pid_col = df.pop('pid')\n\n    df.insert(0, 'pid', pid_col)\n\n    df.drop('_uid', inplace=True, axis=1)\n\n    df.sort_values(by=['pid', 'dateResult'], inplace=True)\n\n    return df\n\n\n# --------------------\n# Main\n# --------------------\n\n# Import feature vector of biochemical markers and FBC panel results\n\npath_data = '../load_dataset/datasets/pathology-sample-march-may.csv'\n\ndata = pd.read_csv(path_data, usecols=INTEREST_cols)\n\ndata = data.loc[data['orderCode'].isin(FBC_codes)]\n\ndata = data.dropna() # drop records of patients with NaN _uid\n\ndata.reset_index(drop=True, inplace=True)\n\n# Create widget\nwidget = TidyWidget(index=index, value=value)\n\n# Transform (keep all)\ntransform, duplicated = \\\n    widget.transform(data, report_duplicated=True)\n\n# Set pid for each patient and sort accordingly\ntransform_fmt = change_pid_datetime_format(transform)\n\n# Transform (keep first)\ntransform_first = \\\n    widget.transform(data, keep='first')\n\n# Set pid for each patient and sort accordingly\ntransform_first_fmt = change_pid_datetime_format(transform_first)\n\nbiomarkers_df = transform_fmt.iloc[:,2:]\n\n# Obtain the correlation matrix for the biomarkers\n\ncorr_mat = biomarkers_df.dropna().corr()\n\n# Print the mean correlation value for each biomarker\n\nprint(\"\\nSorted mean correlation values by biomarkers:\")\nprint(corr_mat.mean(1).sort_values(ascending=False))\n\n# Plot seaborn heatmap, histogram and PDF of correlation values.\n\nplt.figure(figsize=(20,8))\nplt.subplot(1,2,1)\nplt.title('Correlation Matrix for FBC panel', fontweight='bold', fontsize=15)\n\nmin_v = corr_mat.values.min()\nax = sns.heatmap(\n    corr_mat, \n    vmin=min_v, vmax=1, center=0,\n    cmap=sns.diverging_palette(20, 220, n=200),\n    square=True,\n    annot = True,\n    annot_kws={\"fontsize\":8}\n)\nax.set_xticklabels(\n    ax.get_xticklabels(),\n    rotation=45,\n    horizontalalignment='right',\n    fontsize=15\n);\n\nax.set_yticklabels(\n    ax.get_yticklabels(),\n    fontsize=15\n);\n\nax.set_yticklabels(biomarkers_df.columns)\nax.set_xticklabels(biomarkers_df.columns)\n\nplt.subplot(1,2,2)\nplt.title('Histogram and PDF of FBC panel correlations', fontweight='bold', fontsize=15)\nsns.distplot(corr_mat.values.reshape(-1), bins=50, kde_kws={'color': 'red','linewidth': 2, }, hist_kws={'edgecolor':'black'})\nplt.ylabel(\"Density\", fontsize=18)\nplt.xlabel(\"Correlation values\", fontsize=15)\nplt.xticks(fontsize=15)\nplt.yticks(fontsize=15)\nplt.grid()\nplt.show()"
      ]
    }
  ],
  "metadata": {
    "kernelspec": {
      "display_name": "Python 3",
      "language": "python",
      "name": "python3"
    },
    "language_info": {
      "codemirror_mode": {
        "name": "ipython",
        "version": 3
      },
      "file_extension": ".py",
      "mimetype": "text/x-python",
      "name": "python",
      "nbconvert_exporter": "python",
      "pygments_lexer": "ipython3",
      "version": "3.7.6"
    }
  },
  "nbformat": 4,
  "nbformat_minor": 0
}