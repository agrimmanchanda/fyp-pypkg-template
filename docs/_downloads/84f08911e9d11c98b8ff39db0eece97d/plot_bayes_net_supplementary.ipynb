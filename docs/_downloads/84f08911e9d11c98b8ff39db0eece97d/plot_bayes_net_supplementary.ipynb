{
  "cells": [
    {
      "cell_type": "code",
      "execution_count": null,
      "metadata": {
        "collapsed": false
      },
      "outputs": [],
      "source": [
        "%matplotlib inline"
      ]
    },
    {
      "cell_type": "markdown",
      "metadata": {},
      "source": [
        "\n# Bayesian Network Supplementary Script\n\nProvides all supplementary code for experiments.\n"
      ]
    },
    {
      "cell_type": "code",
      "execution_count": null,
      "metadata": {
        "collapsed": false
      },
      "outputs": [],
      "source": [
        "# #######################################\n# # -------------------------------------\n# # Libraries import\n# # -------------------------------------\n\n# # Libraries generic\n# import numpy as np\n# import pandas as pd\n# import sklearn\n# import matplotlib.pyplot as plt\n# import seaborn as sns\n# from scipy import stats\n\n# # Libraries sklearn\n# from sklearn.pipeline import Pipeline\n# from sklearn.model_selection import KFold\n# from sklearn.model_selection import cross_validate\n# from sklearn.preprocessing import StandardScaler\n# from sklearn.model_selection import train_test_split\n\n# # Regressors\n# from sklearn.linear_model import LinearRegression\n# from sklearn.linear_model import Ridge\n# from sklearn.linear_model import BayesianRidge\n# from sklearn.ensemble import RandomForestRegressor\n# from sklearn.tree import DecisionTreeRegressor\n# from sklearn.ensemble import ExtraTreesRegressor\n# from sklearn.linear_model import SGDRegressor\n# from sklearn.neighbors import KNeighborsRegressor\n# from sklearn.neural_network import MLPRegressor\n# from xgboost import XGBRegressor\n\n# # Metrics\n# from sklearn.metrics import make_scorer\n# from sklearn.metrics import mean_squared_error\n\n# # Custom Packages\n# from labimputer.utils.load_dataset import remove_data_outliers\n# from labimputer.utils.iter_imp import corr_pairs, get_score_statistics, rmse, norm_rmse, rmsle, get_test_scores, get_best_models, nae\n# from labimputer.core.iter_imp import IterativeImputerRegressor, SimpleImputerRegressor\n# from labimputer.core.bayes_net import BNRegressor, BNImputer\n\n# METHODS = [\n#     'LR',\n#     'DT',\n#     'RF',\n#     'SVR',\n#     'KNN',\n#     'MLP',\n#     'XGB',\n#     'Median',\n# ]\n\n# FBC_CODES = sorted([\"EOS\", \"MONO\", \"NEUT\", \"RBC\", \"WBC\", \n#                 \"MCHC\", \"MCV\", \"LY\", \"HCT\", \"RDW\", \"HGB\", \n#                 \"MCH\", \"PLT\", \"MPV\"])\n\n\n# ## Test results \n\n# df1 = pd.read_csv('ML_mult_test_results_30.csv', index_col=0)\n\n# df1\n\n# data = np.split(df1.T.to_numpy(), len(df1.T.to_numpy())/3)\n\n# d = pd.DataFrame()\n\n# for idx, values in enumerate(zip(data, FBC_CODES)):\n    \n#     y_true, y_pred, y_med = values[0][0], values[0][1], values[0][2]\n    \n#     rmse_tp, rmse_tm = rmse(y_true, y_pred), rmse(y_true, y_med)\n    \n#     join = pd.concat([pd.Series(rmse_tp), pd.Series(rmse_tm)], axis=1)\n    \n#     d = d.append(join)\n    \n# d.columns, d.index = ['Best', 'Median'], FBC_CODES\n\n# d['$\\Delta$ (%)'] = 100 - (100* (d['Best']/d['Median']))\n\n# d.loc['Mean'] = d.mean()\n\n# for idx, values in enumerate(zip(data, FBC_CODES)):\n    \n#     y_true, y_pred, y_med = values[0][0], values[0][1], values[0][2]\n    \n#     t1 = stats.mannwhitneyu(y_true, y_med)\n    \n#     print(values[1], t1)\n\n\n# d = pd.DataFrame()\n\n# for idx, values in enumerate(zip(data, FBC_CODES)):\n    \n#     y_true, y_pred, y_med = values[0][0], values[0][1], values[0][2]\n    \n#     nae_tp, nae_tm = nae(y_true, y_pred), nae(y_true, y_med)\n    \n#     nae_vals = pd.DataFrame([nae_tp, ['Best' for _ in range(len(nae_tp))], [values[1] for _ in range(len(nae_tp))]]).T\n    \n#     nae_vals_med = pd.DataFrame([nae_tm, ['Median' for _ in range(len(nae_tm))], [values[1] for _ in range(len(nae_tm))]]).T\n    \n#     join = pd.concat([nae_vals, nae_vals_med], axis=0)\n    \n#     d = d.append(join)\n    \n# d.columns = ['NAE', 'Model', 'Analyte']\n\n# plt.figure(figsize=(15,5))\n\n# # create grouped boxplot \n# sns.boxplot(x = d['Analyte'],\n#         y = d['NAE'],\n#         hue = d['Model'],\n#         showfliers=False\n#         )\n\n# plt.show()"
      ]
    }
  ],
  "metadata": {
    "kernelspec": {
      "display_name": "Python 3",
      "language": "python",
      "name": "python3"
    },
    "language_info": {
      "codemirror_mode": {
        "name": "ipython",
        "version": 3
      },
      "file_extension": ".py",
      "mimetype": "text/x-python",
      "name": "python",
      "nbconvert_exporter": "python",
      "pygments_lexer": "ipython3",
      "version": "3.7.6"
    }
  },
  "nbformat": 4,
  "nbformat_minor": 0
}