{
  "cells": [
    {
      "cell_type": "code",
      "execution_count": null,
      "metadata": {
        "collapsed": false
      },
      "outputs": [],
      "source": [
        "%matplotlib inline"
      ]
    },
    {
      "cell_type": "markdown",
      "metadata": {},
      "source": [
        "\n# Experiment 1\n\nGenerating patient static profiles for patients using ``TidyWidget`` class.\n"
      ]
    },
    {
      "cell_type": "code",
      "execution_count": null,
      "metadata": {
        "collapsed": false
      },
      "outputs": [],
      "source": [
        "# Import\nimport numpy as np\nimport pandas as pd\nimport seaborn as sns \nimport matplotlib.pyplot as plt\nimport warnings\nwarnings.filterwarnings(\"ignore\")\n\n# DataBlend library\nfrom labimputer.utils.widgets import TidyWidget\n\n# ------------------------\n# Data handling \n# ------------------------\n\n# Define FBC panel and interest biochemical markers\nFBC_CODES = sorted([\"EOS\", \"MONO\", \"BASO\", \"NEUT\", \"RBC\", \"WBC\", \n                \"MCHC\", \"MCV\", \"LY\", \"HCT\", \"RDW\", \"HGB\", \n                \"MCH\", \"PLT\", \"MPV\", \"NRBCA\"])\n\n# Define variables of interest for study\nINTEREST_cols = [\"_uid\",\"dateResult\", \"orderCode\", \"result\", \"unit\", \"unitRange\"]\n\n# Define index and value parameters\nindex = ['_uid', 'dateResult', 'orderCode']\nvalue = 'result'\n\n# Set relative data path and set FBC panel list\npath_data = '../resources/datasets/nhs/pathology-sample-march-may.csv'\n\n# Read data and drop Nan _uid records\ndf = pd.read_csv(path_data, usecols=INTEREST_cols)\n\n# Reset index to remove the ones from the current data set\ndf.reset_index(drop=True, inplace=True)\n\n# Drop any null values from the data set\ndata = df.dropna()\n\n# --------------------\n# Transform\n# --------------------\n\n# Create widget\nwidget = TidyWidget(index=index, value=value)\n\n# Transform (keep all)\ntransform, duplicated = \\\n    widget.transform(data, report_duplicated=True)\n\n# Transform (keep first)\ntransform_first = \\\n    widget.transform(data, keep='first')\n\n# Select features of interest from transformed data\ndata_feat = transform[[\"_uid\", \"dateResult\"] + FBC_CODES]\n\n# Save to csv file for use with subsequent experiments\n# data_feat.dropna().to_csv('../resources/datasets/nhs/pathology-sample-march-may-transformed.csv')"
      ]
    }
  ],
  "metadata": {
    "kernelspec": {
      "display_name": "Python 3",
      "language": "python",
      "name": "python3"
    },
    "language_info": {
      "codemirror_mode": {
        "name": "ipython",
        "version": 3
      },
      "file_extension": ".py",
      "mimetype": "text/x-python",
      "name": "python",
      "nbconvert_exporter": "python",
      "pygments_lexer": "ipython3",
      "version": "3.7.6"
    }
  },
  "nbformat": 4,
  "nbformat_minor": 0
}