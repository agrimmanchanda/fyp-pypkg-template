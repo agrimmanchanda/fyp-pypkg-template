{
  "cells": [
    {
      "cell_type": "code",
      "execution_count": null,
      "metadata": {
        "collapsed": false
      },
      "outputs": [],
      "source": [
        "%matplotlib inline"
      ]
    },
    {
      "cell_type": "markdown",
      "metadata": {},
      "source": [
        "\n# Biomarker distributions in dataset\n\nUsing ``seaborn`` library to visualise biomarker distributions\n"
      ]
    },
    {
      "cell_type": "markdown",
      "metadata": {},
      "source": [
        "Import the relevant libraries first\n\n"
      ]
    },
    {
      "cell_type": "code",
      "execution_count": null,
      "metadata": {
        "collapsed": false
      },
      "outputs": [],
      "source": [
        "import numpy as np \nimport pandas as pd\nimport matplotlib.pyplot as plt\nimport seaborn as sns\nfrom scipy import stats\nimport warnings\nwarnings.filterwarnings(\"ignore\")"
      ]
    },
    {
      "cell_type": "markdown",
      "metadata": {},
      "source": [
        "## Data import \n\n"
      ]
    },
    {
      "cell_type": "code",
      "execution_count": null,
      "metadata": {
        "collapsed": false
      },
      "outputs": [],
      "source": [
        "# Set relative data path and set FBC panel list\npath_data = 'datasets/Transformed_First_FBC_dataset.csv'\n\nFBC_CODES = [\"EOS\", \"MONO\", \"BASO\", \"NEUT\", \"RBC\", \"WBC\", \n                \"MCHC\", \"MCV\", \"LY\", \"HCT\", \"RDW\", \"HGB\", \n                \"MCH\", \"PLT\", \"MPV\", \"NRBCA\"]\n\n# Read data and drop Nan _uid records\ndf = pd.read_csv(path_data).dropna(subset=['pid'])\n\ndf.reset_index(drop=True, inplace=True)"
      ]
    },
    {
      "cell_type": "markdown",
      "metadata": {},
      "source": [
        "## Preprocessing step: obtain FBC panel\n\n"
      ]
    },
    {
      "cell_type": "code",
      "execution_count": null,
      "metadata": {
        "collapsed": false
      },
      "outputs": [],
      "source": [
        "# Obtain the biomarkers DataFrame only\nbiomarkers_df = df[FBC_CODES].dropna(subset=FBC_CODES)\nbiomarkers_df_copy = biomarkers_df.copy(deep=True)\nbiomarkers_data = biomarkers_df.values"
      ]
    },
    {
      "cell_type": "markdown",
      "metadata": {},
      "source": [
        "## Plot distributions and histograms for each biomarker\n\n"
      ]
    },
    {
      "cell_type": "code",
      "execution_count": null,
      "metadata": {
        "collapsed": false
      },
      "outputs": [],
      "source": [
        "for col in biomarkers_df_copy.columns:\n    plt.figure(figsize=(20,10))\n    plt.suptitle(f'Distribution and boxplot for biomarker: {col}', \n    fontweight='bold', fontsize=25)\n    \n    plt.subplot(1,2,1)\n    sns.distplot(biomarkers_df[col].values, bins=50, \n    kde_kws={'color': 'red','linewidth': 2, }, hist_kws={'edgecolor':'black'})\n    plt.xlabel(f'{col}', fontsize=18)\n    plt.ylabel('Density', fontsize=18)\n    plt.xticks(fontsize=18)\n    plt.yticks(fontsize=18)\n    \n    plt.subplot(1,2,2)\n    sns.boxplot(x=biomarkers_df[col])\n    plt.xlabel(f'{col}', fontsize=18)\n    plt.xticks(fontsize=18)\n    plt.yticks(fontsize=18)"
      ]
    },
    {
      "cell_type": "markdown",
      "metadata": {},
      "source": [
        "## Plot same histograms without outliers\n\n"
      ]
    },
    {
      "cell_type": "code",
      "execution_count": null,
      "metadata": {
        "collapsed": false
      },
      "outputs": [],
      "source": [
        "# Remove data outliers based on absolute Z-Score value < 3\n#biomarkers_df[(np.abs(stats.zscore(biomarkers_df)) < 3).all(axis=1)]\n\n# Remove values based on Q(1/3) -+ 1.5 * IQR method\nq1, q3 = biomarkers_df.quantile(0.25), biomarkers_df.quantile(0.75)\nIQR = q3 - q1\nlower_bound = q1 - (1.5 * IQR)\nupper_bound = q3 + (1.5 * IQR)\n\n# New biomarkers dataframe with outlier values removed\nbiomarkers_df_wo_outliers = biomarkers_df[~((biomarkers_df < lower_bound) | \n(biomarkers_df > upper_bound)).any(axis=1)]\n\n# Plot distribution and boxplots \nfor col in biomarkers_df_wo_outliers.columns:\n    plt.figure(figsize=(20,10))\n    plt.suptitle(f'Distribution and boxplot for biomarker: {col}', \n    fontweight='bold', fontsize=25)\n    \n    plt.subplot(1,2,1)\n    sns.distplot(biomarkers_df_wo_outliers[col].values, bins=50, \n    kde_kws={'color': 'red','linewidth': 2, }, hist_kws={'edgecolor':'black'})\n    plt.xlabel(f'{col}', fontsize=18)\n    plt.ylabel('Density', fontsize=18)\n    plt.xticks(fontsize=18)\n    plt.yticks(fontsize=18)\n    \n    plt.subplot(1,2,2)\n    sns.boxplot(x=biomarkers_df_wo_outliers[col])\n    plt.xlabel(f'{col}', fontsize=18)\n    plt.xticks(fontsize=18)\n    plt.yticks(fontsize=18)"
      ]
    }
  ],
  "metadata": {
    "kernelspec": {
      "display_name": "Python 3",
      "language": "python",
      "name": "python3"
    },
    "language_info": {
      "codemirror_mode": {
        "name": "ipython",
        "version": 3
      },
      "file_extension": ".py",
      "mimetype": "text/x-python",
      "name": "python",
      "nbconvert_exporter": "python",
      "pygments_lexer": "ipython3",
      "version": "3.7.6"
    }
  },
  "nbformat": 4,
  "nbformat_minor": 0
}