{
  "cells": [
    {
      "cell_type": "code",
      "execution_count": null,
      "metadata": {
        "collapsed": false
      },
      "outputs": [],
      "source": [
        "%matplotlib inline"
      ]
    },
    {
      "cell_type": "markdown",
      "metadata": {},
      "source": [
        "\n# Biomarker distributions in dataset\n\nUsing ``seaborn`` library to visualise biomarker distributions\n"
      ]
    },
    {
      "cell_type": "markdown",
      "metadata": {},
      "source": [
        "Import the relevant libraries first\n\n"
      ]
    },
    {
      "cell_type": "code",
      "execution_count": null,
      "metadata": {
        "collapsed": false
      },
      "outputs": [],
      "source": [
        "import numpy as np \nimport pandas as pd\nimport matplotlib.pyplot as plt\nimport seaborn as sns\nfrom sklearn import preprocessing\nimport warnings\nwarnings.filterwarnings(\"ignore\")\nfrom pkgname.utils.widgets import TidyWidget"
      ]
    },
    {
      "cell_type": "markdown",
      "metadata": {},
      "source": [
        "## Data handling\nFirst, let's define the data set path and relevant variables of interest\n\n"
      ]
    },
    {
      "cell_type": "code",
      "execution_count": null,
      "metadata": {
        "collapsed": false
      },
      "outputs": [],
      "source": [
        "path_data = 'datasets/pathology-sample-march-may.csv'\n\nFBC_codes = [\"EOS\", \"MONO\", \"BASO\", \"NEUT\", \"RBC\", \"WBC\", \n                \"MCHC\", \"MCV\", \"LY\", \"HCT\", \"RDW\", \"HGB\", \n                \"MCH\", \"PLT\", \"MPV\", \"NRBCA\"]\n\nINTEREST_cols = [\"_uid\", \"orderCode\", \"result\", \"dateResult\"]"
      ]
    },
    {
      "cell_type": "markdown",
      "metadata": {},
      "source": [
        "Next, import only variables of interest and FBC panel results\n\n"
      ]
    },
    {
      "cell_type": "code",
      "execution_count": null,
      "metadata": {
        "collapsed": false
      },
      "outputs": [],
      "source": [
        "df = pd.read_csv(path_data, usecols=INTEREST_cols)\n\ndf = df.loc[df['orderCode'].isin(FBC_codes)]\n\ndf = df.dropna() # drop records of patients with NaN _uid\n\ndf.reset_index(drop=True, inplace=True)\n\n# Define function to set pid (patient ID) sorted by datetime\n\ndef change_pid_datetime_format(df):\n    df['pid'] = df['_uid'].str.extract('(\\d+)').astype(int)\n\n    pid_col = df.pop('pid')\n\n    df.insert(0, 'pid', pid_col)\n\n    df.drop('_uid', inplace=True, axis=1)\n\n    df.sort_values(by=['pid', 'dateResult'], inplace=True)\n\n    return df"
      ]
    },
    {
      "cell_type": "markdown",
      "metadata": {},
      "source": [
        "## Transform data using TidyWidget\n\n"
      ]
    },
    {
      "cell_type": "code",
      "execution_count": null,
      "metadata": {
        "collapsed": false
      },
      "outputs": [],
      "source": [
        "# Parameters\nindex = ['_uid', 'dateResult', 'orderCode']\nvalue = 'result'\n\n# Create widget\nwidget = TidyWidget(index=index, value=value)\n\n# Transform (keep all)\ntransform, duplicated = \\\n    widget.transform(df, report_duplicated=True)\n\n# Set pid for each patient and sort accordingly\ntransform_fmt = change_pid_datetime_format(transform)\n\n# Transform (keep first)\ntransform_first = \\\n    widget.transform(df, keep='first')\n\n# Set pid for each patient and sort accordingly\ntransform_first_fmt = change_pid_datetime_format(transform_first)"
      ]
    },
    {
      "cell_type": "markdown",
      "metadata": {},
      "source": [
        "## Preprocessing step: normalise\n\n"
      ]
    },
    {
      "cell_type": "code",
      "execution_count": null,
      "metadata": {
        "collapsed": false
      },
      "outputs": [],
      "source": [
        "# Obtain the biomarkers DataFrame only\nbiomarkers_df = transform_fmt.iloc[:,2:].dropna()\nbiomarkers_df_copy = biomarkers_df.copy(deep=True)\nbiomarkers_data = biomarkers_df.values\n\n# Normalise using minmax scaler\nmin_max_scaler = preprocessing.MinMaxScaler()\nval_scaled = min_max_scaler.fit_transform(biomarkers_data)\nbiomarkers_df = pd.DataFrame(val_scaled, columns=[col for col in biomarkers_df_copy.columns])\n\n# Can use df.melt() method\n# biomarkers_dfm = biomarkers_df.melt(var_name='biomarkers')"
      ]
    },
    {
      "cell_type": "markdown",
      "metadata": {},
      "source": [
        "## Plot histograms for each biomarker\n\n"
      ]
    },
    {
      "cell_type": "code",
      "execution_count": null,
      "metadata": {
        "collapsed": false
      },
      "outputs": [],
      "source": [
        "for col in biomarkers_df_copy.columns:\n    plt.figure(figsize=(15,10))\n    plt.title(f'Histogram for biomarker: {col}', fontweight='bold', fontsize=20)\n    plt.xlabel('Normalised value', fontsize=16)\n    plt.ylabel('Density', fontsize=16)\n    plt.xticks(fontsize=16)\n    plt.yticks(fontsize=16)\n    hist = biomarkers_df_copy[col].hist(bins=50)\n    hist.plot(grid=True, figsize=(15,10))"
      ]
    }
  ],
  "metadata": {
    "kernelspec": {
      "display_name": "Python 3",
      "language": "python",
      "name": "python3"
    },
    "language_info": {
      "codemirror_mode": {
        "name": "ipython",
        "version": 3
      },
      "file_extension": ".py",
      "mimetype": "text/x-python",
      "name": "python",
      "nbconvert_exporter": "python",
      "pygments_lexer": "ipython3",
      "version": "3.7.6"
    }
  },
  "nbformat": 4,
  "nbformat_minor": 0
}