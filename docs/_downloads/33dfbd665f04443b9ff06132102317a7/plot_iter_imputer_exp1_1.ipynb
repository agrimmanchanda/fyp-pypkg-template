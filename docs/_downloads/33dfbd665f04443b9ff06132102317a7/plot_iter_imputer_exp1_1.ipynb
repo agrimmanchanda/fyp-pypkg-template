{
  "cells": [
    {
      "cell_type": "code",
      "execution_count": null,
      "metadata": {
        "collapsed": false
      },
      "outputs": [],
      "source": [
        "%matplotlib inline"
      ]
    },
    {
      "cell_type": "markdown",
      "metadata": {},
      "source": [
        "\n# Iterative Imputer Experiment I.I\n\nSingle biomarker removal using ``sklearn``\nmethods only.\n"
      ]
    },
    {
      "cell_type": "markdown",
      "metadata": {},
      "source": [
        "## Libraries import\n\n"
      ]
    },
    {
      "cell_type": "code",
      "execution_count": null,
      "metadata": {
        "collapsed": false
      },
      "outputs": [],
      "source": [
        "# Libraries generic\nimport numpy as np\nimport pandas as pd\nimport sklearn\nimport matplotlib.pyplot as plt\n\n# Libraries sklearn\nfrom sklearn.pipeline import Pipeline\nfrom sklearn.model_selection import KFold\nfrom sklearn.model_selection import cross_validate\nfrom sklearn.preprocessing import StandardScaler\n\n# Regressors\nfrom sklearn.linear_model import LinearRegression\nfrom sklearn.linear_model import Ridge\nfrom sklearn.linear_model import BayesianRidge\nfrom sklearn.ensemble import RandomForestRegressor\nfrom sklearn.tree import DecisionTreeRegressor\nfrom sklearn.ensemble import ExtraTreesRegressor\nfrom sklearn.linear_model import SGDRegressor\nfrom sklearn.neighbors import KNeighborsRegressor\nfrom sklearn.neural_network import MLPRegressor\nfrom xgboost import XGBRegressor\n\n# Metrics\nfrom sklearn.metrics import make_scorer\nfrom sklearn.metrics import mean_squared_error\n\n# Custom Packages\nfrom pkgname.utils.load_dataset import remove_data_outliers\nfrom pkgname.utils.iter_imp import corr_pairs, get_score_statistics\nfrom pkgname.core.iter_imp import IterativeImputerRegressor, SimpleImputerRegressor"
      ]
    },
    {
      "cell_type": "markdown",
      "metadata": {},
      "source": [
        "## Define tuned estimators\n\n"
      ]
    },
    {
      "cell_type": "code",
      "execution_count": null,
      "metadata": {
        "collapsed": false
      },
      "outputs": [],
      "source": [
        "_TUNED_ESTIMATORS = {\n    'lr': LinearRegression(),\n    'bridge': BayesianRidge(\n        alpha_1=1e-05,\n        alpha_2=1e-07,\n        lambda_1=1e-07,\n        lambda_2=1e-05,\n    ),\n    'dt': DecisionTreeRegressor(\n        criterion='mse',\n        splitter='best',\n        max_depth=8,\n        max_leaf_nodes=15,\n        min_samples_leaf=8,\n        min_samples_split=8,\n    ),\n    'etr': ExtraTreesRegressor(\n        n_estimators=100,\n        criterion='mse',\n        bootstrap=False,\n        warm_start=False,\n        n_jobs=-1,\n    ),\n    'sgd-ls': SGDRegressor(\n        alpha=1e-4,\n        epsilon=0.05,\n        learning_rate='adaptive',\n        loss='squared_loss',\n        early_stopping=True,\n        warm_start=True,\n    ),\n    'sgd-sv': SGDRegressor(\n        alpha=1e-4,\n        epsilon=0.01,\n        learning_rate='adaptive',\n        loss='squared_epsilon_insensitive',\n        early_stopping=True,\n        warm_start=True,\n    ),\n    'knn': KNeighborsRegressor(\n        n_neighbors=8,\n        weights='distance',\n        n_jobs=-1,\n    ),\n    'xgb': XGBRegressor(),\n    'mlp': MLPRegressor(\n        alpha=1e-4,\n        hidden_layer_sizes=32,\n        solver='adam',\n        learning_rate='invscaling',\n        warm_start=True,\n        early_stopping=True,\n    ),\n    'sir': SimpleImputerRegressor(\n        strategy='median'\n    ),\n}"
      ]
    },
    {
      "cell_type": "markdown",
      "metadata": {},
      "source": [
        "## Data import \n\n"
      ]
    },
    {
      "cell_type": "code",
      "execution_count": null,
      "metadata": {
        "collapsed": false
      },
      "outputs": [],
      "source": [
        "# Set relative data path and set FBC panel list\npath_data = '../resources/datasets/nhs/Transformed_First_FBC_dataset.csv'\n\nFBC_CODES = [\"EOS\", \"MONO\", \"BASO\", \"NEUT\", \"RBC\", \"WBC\", \n                \"MCHC\", \"MCV\", \"LY\", \"HCT\", \"RDW\", \"HGB\", \n                \"MCH\", \"PLT\", \"MPV\", \"NRBCA\"]\n\n# Read data and drop Nan _uid records\ndf = pd.read_csv(path_data).dropna(subset=['pid'])\n\ndf.reset_index(drop=True, inplace=True)\n\n# Obtain the biomarkers DataFrame only\nraw_data = df[FBC_CODES].dropna(subset=FBC_CODES)\n\n# Remove outliers from dataset\ncomplete_profiles, _ = remove_data_outliers(raw_data)\n\n# Constant variables to drop\nDROP_FEATURES = ['BASO', 'NRBCA']\n\n# Complete profiles for complete case analysis\ncomplete_profiles = complete_profiles.drop(DROP_FEATURES, axis=1)"
      ]
    },
    {
      "cell_type": "markdown",
      "metadata": {},
      "source": [
        "## Correlation matrix\n\n"
      ]
    },
    {
      "cell_type": "code",
      "execution_count": null,
      "metadata": {
        "collapsed": false
      },
      "outputs": [],
      "source": [
        "# Calculate correlation matrix using Pearson Correlation Coefficient\ncorr_mat = complete_profiles.corr(method='pearson')\n\n# Show\nprint(\"\\nData:\")\nprint(complete_profiles)\nprint(\"\\nCorrelation (pearson):\")\nprint(corr_mat)"
      ]
    },
    {
      "cell_type": "markdown",
      "metadata": {},
      "source": [
        "## Obtain evaluation scores\n\n"
      ]
    },
    {
      "cell_type": "code",
      "execution_count": null,
      "metadata": {
        "collapsed": false
      },
      "outputs": [],
      "source": [
        "# Number of splits\nn_splits = 5\n\n# Create Kfold instance\nskf = KFold(n_splits=n_splits, shuffle=False)\n\n# Scoring\nscoring = {\n    'nmae': 'neg_mean_absolute_error', # MAE\n    'nmse': 'neg_mean_squared_error',       # MSE\n    'nrmse': 'neg_root_mean_squared_error', # RMSE\n    #'norm_rmse': make_scorer(norm_rmse) # NRMSE\n}\n\n# Compendium of results\niir_results = pd.DataFrame()\n\n# Create a list of estimators\nESTIMATORS = [\n    # 'lr',\n    # 'bridge',\n    # 'dt',\n    # 'etr',\n    # 'sgd-ls',\n    # 'sgd-sv',\n    # 'knn',\n    # 'xgb',\n    # 'sir',\n]\n\n# For each estimator\nfor i, est in enumerate(ESTIMATORS):\n\n    data = pd.DataFrame()\n\n    # Check if estimator has been defined else skip\n    if est not in _TUNED_ESTIMATORS:\n        continue\n    \n    estimator = _TUNED_ESTIMATORS[est]\n    \n    if estimator != 'sir':\n        imputer = IterativeImputerRegressor(estimator=estimator)\n    else:\n        imputer = estimator\n\n    for biomarker in complete_profiles:\n\n        aux = complete_profiles.copy(deep=True)\n        X = aux[[x for x in aux.columns if x != biomarker]]\n        y = aux[biomarker]\n\n        # Information\n        print(\"\\n%s. Evaluating... %s for biomarker... %s\" % (i, est, biomarker))\n\n        # Create pipeline\n        pipe = Pipeline(steps=[ ('std', StandardScaler()),\n                                (est, imputer)],\n                        verbose=True)\n\n        # Obtain scores for each fold using cross_validate\n        scores = cross_validate(pipe, \n                                X, \n                                y, \n                                scoring=scoring, \n                                cv=skf, \n                                return_train_score=True, \n                                n_jobs=-1, \n                                verbose=0)\n        \n        # Extract results\n        results = pd.DataFrame(scores)\n        results.index = ['%s_%s_%s' % (biomarker, est, j)\n            for j in range(results.shape[0])]\n        \n        # Add to compendium and data\n        iir_results = iir_results.append(results)\n        data = data.append(results)\n        # data.to_csv(f'datasets/iir_{est}.csv')"
      ]
    },
    {
      "cell_type": "markdown",
      "metadata": {},
      "source": [
        "## Save results\n\n"
      ]
    },
    {
      "cell_type": "code",
      "execution_count": null,
      "metadata": {
        "collapsed": false
      },
      "outputs": [],
      "source": [
        "# Save\n# iir_results.to_csv('datasets/iir_results.csv')"
      ]
    },
    {
      "cell_type": "markdown",
      "metadata": {},
      "source": [
        "## Analyse scores and test results\n\n"
      ]
    },
    {
      "cell_type": "code",
      "execution_count": null,
      "metadata": {
        "collapsed": false
      },
      "outputs": [],
      "source": [
        "# Create a list of estimators\nMETHODS = [\n    'lr',\n    'bridge',\n    'dt',\n    'etr',\n    'sgd-ls',\n    'sgd-sv',\n    'knn',\n    'mlp',\n    # 'xgb',\n    'sir',\n]\n\n\ncompendium = pd.read_csv('datasets/iir_results.csv', index_col=0)\n\n# Get mean and variance of RMSE scores\nall_scores = get_score_statistics(compendium, 'rmse')\n\n# Split scores to obtain score for each estimator\nsplit_scores = np.array_split(all_scores, len(METHODS))\n\n# Stack scores horizontally for easier plotting\nhsplit_scores = np.hstack((split_scores))\n\n# Create DataFrame for mean and std dev statistics\nstatistics = pd.DataFrame(hsplit_scores, index=complete_profiles.columns)\n\n# Split mean and std dev statistics\nmean_stats, std_stats = statistics.iloc[:,::2], statistics.iloc[:,1::2]\n\n# Rename columns to match algorithms\nmean_stats.columns, std_stats.columns = METHODS, METHODS\n\nprint(\"Mean RMSE Statistics: \")\n\n# Highlighting the minimum values of last 2 columns\nmean_stats.style.highlight_min(color = 'lightgreen', \n                       axis = 1)"
      ]
    },
    {
      "cell_type": "markdown",
      "metadata": {},
      "source": [
        "## Plot results\n\n"
      ]
    },
    {
      "cell_type": "code",
      "execution_count": null,
      "metadata": {
        "collapsed": false
      },
      "outputs": [],
      "source": [
        "plt.figure(figsize=(20,40))\n\n# Set single title for all figures\n# plt.suptitle('Iterative Imputer RMSE scores for complete profiles', \n#             fontweight='bold', \n#             fontsize=12)\n\n\nfor idx, (biomarker, scores) in enumerate(mean_stats.iterrows(), start=1):\n    plt.subplot(7,2,idx)\n    plt.title(f'RMSE for {biomarker}', \n    fontweight='bold', \n    fontsize=14)\n    cmap = ['green' if (x == min(scores)) else 'royalblue' for x in scores]\n    scores.plot.barh(grid=True, \n                xerr=list(std_stats.loc[biomarker, :]), \n                align='center', \n                color=cmap)\n    plt.xticks(fontsize=16)\n    plt.yticks(fontsize=16)\n    plt.xlabel('RMSE Score', fontsize=16)\n    \n# Space plots out\nplt.tight_layout()\n\n# Show\nplt.show()"
      ]
    }
  ],
  "metadata": {
    "kernelspec": {
      "display_name": "Python 3",
      "language": "python",
      "name": "python3"
    },
    "language_info": {
      "codemirror_mode": {
        "name": "ipython",
        "version": 3
      },
      "file_extension": ".py",
      "mimetype": "text/x-python",
      "name": "python",
      "nbconvert_exporter": "python",
      "pygments_lexer": "ipython3",
      "version": "3.7.6"
    }
  },
  "nbformat": 4,
  "nbformat_minor": 0
}