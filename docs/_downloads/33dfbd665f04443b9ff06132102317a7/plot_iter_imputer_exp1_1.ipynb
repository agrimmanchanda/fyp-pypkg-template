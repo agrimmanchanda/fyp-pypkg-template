{
  "cells": [
    {
      "cell_type": "code",
      "execution_count": null,
      "metadata": {
        "collapsed": false
      },
      "outputs": [],
      "source": [
        "%matplotlib inline"
      ]
    },
    {
      "cell_type": "markdown",
      "metadata": {},
      "source": [
        "\n# Iterative Imputer Experiment I.I\n\nSingle biomarker removal experiment with\nK-Fold Cross Validation without outliers.\n"
      ]
    },
    {
      "cell_type": "markdown",
      "metadata": {},
      "source": [
        "## Libraries import \n\n"
      ]
    },
    {
      "cell_type": "code",
      "execution_count": null,
      "metadata": {
        "collapsed": false
      },
      "outputs": [],
      "source": [
        "import numpy as np \nimport pandas as pd\nimport matplotlib.pyplot as plt\nfrom sklearn.model_selection import KFold\nfrom sklearn.linear_model import BayesianRidge\nfrom sklearn.tree import DecisionTreeRegressor\nfrom sklearn.ensemble import ExtraTreesRegressor\nfrom sklearn.neighbors import KNeighborsRegressor\nfrom sklearn.ensemble import RandomForestRegressor\nfrom sklearn.linear_model import SGDRegressor\nfrom sklearn.neural_network import MLPRegressor\nfrom xgboost import XGBRegressor\nfrom sklearn.experimental import enable_iterative_imputer\nfrom sklearn.impute import IterativeImputer\nfrom sklearn.impute import SimpleImputer\nfrom sklearn import preprocessing\nimport warnings\nwarnings.filterwarnings(\"ignore\")\nfrom pkgname.utils.iter_imp import *"
      ]
    },
    {
      "cell_type": "markdown",
      "metadata": {},
      "source": [
        "## Data import \n\n"
      ]
    },
    {
      "cell_type": "code",
      "execution_count": null,
      "metadata": {
        "collapsed": false
      },
      "outputs": [],
      "source": [
        "# Set relative data path and set FBC panel list\npath_data = 'datasets/Transformed_First_FBC_dataset.csv'\n\nFBC_CODES = [\"EOS\", \"MONO\", \"BASO\", \"NEUT\", \"RBC\", \"WBC\", \n                \"MCHC\", \"MCV\", \"LY\", \"HCT\", \"RDW\", \"HGB\", \n                \"MCH\", \"PLT\", \"MPV\", \"NRBCA\"]\n\n# Read data and drop Nan _uid records\ndf = pd.read_csv(path_data).dropna(subset=['pid'])\n\ndf.reset_index(drop=True, inplace=True)"
      ]
    },
    {
      "cell_type": "markdown",
      "metadata": {},
      "source": [
        "## Remove outliers from dataset\n\n"
      ]
    },
    {
      "cell_type": "code",
      "execution_count": null,
      "metadata": {
        "collapsed": false
      },
      "outputs": [],
      "source": [
        "# Obtain the biomarkers DataFrame with outliers\nbiomarkers_raw = df[FBC_CODES].dropna(subset=FBC_CODES)\n\n\n# Remove values based on Q(1/3) -+ 1.5 * IQR method\nq1, q3 = biomarkers_raw.quantile(0.25), biomarkers_raw.quantile(0.75)\nIQR = q3 - q1\nlower_bound = q1 - (1.5 * IQR)\nupper_bound = q3 + (1.5 * IQR)\n\n# New biomarkers dataframe with outlier values removed\nbiomarkers_df = biomarkers_raw[~((biomarkers_raw < lower_bound) | \n(biomarkers_raw > upper_bound)).any(axis=1)]\n\n# Make dataset copy\nbiomarkers_original_df_copy = biomarkers_df.copy(deep=True)\n\n# Store column names\ncols = [col for col in biomarkers_df.columns]\n\n# Convert to array for processing \nbiomarkers_data = biomarkers_df.values"
      ]
    },
    {
      "cell_type": "markdown",
      "metadata": {},
      "source": [
        "## Biomarker correlations\n\n"
      ]
    },
    {
      "cell_type": "code",
      "execution_count": null,
      "metadata": {
        "collapsed": false
      },
      "outputs": [],
      "source": [
        "# Obtain highest correlation pairs Pearson Correlation Coefficient\nbiomarkers_highest_corr = corr_pairs(biomarkers_df)\n\n# Find biomarkers that are to be dropped from the dataset\nbiomarkers_to_drop = np.unique(biomarkers_highest_corr[['var1', 'var2']].values)\n\nprint(\"\\nBiomarkers with high correlations: \", biomarkers_to_drop)\n\n# DataFrame to store all experiment MSE scores\nrmse_score_df = pd.DataFrame(index=biomarkers_df.columns)\nrmse_score_df.index.names = ['Biomarker']\nrmsle_score_df = rmse_score_df.copy(deep=True)"
      ]
    },
    {
      "cell_type": "markdown",
      "metadata": {},
      "source": [
        "## K-Fold Cross Validation (K = 5)\n\n"
      ]
    },
    {
      "cell_type": "code",
      "execution_count": null,
      "metadata": {
        "collapsed": false
      },
      "outputs": [],
      "source": [
        "# Define min-max scaler and normalise dataset\nmin_max_scaler = preprocessing.StandardScaler()\n\n# Initialise 5-Fold cross validation\nkf5 = KFold(n_splits=5, shuffle=False, random_state=None)\n\n# Temporary mse_score_df to store mse score for each fold\ntemp_rmse_score_df = rmse_score_df.copy(deep=True)\ntemp_rmsle_score_df = rmse_score_df.copy(deep=True)"
      ]
    },
    {
      "cell_type": "markdown",
      "metadata": {},
      "source": [
        "## Define estimators \n\n"
      ]
    },
    {
      "cell_type": "code",
      "execution_count": null,
      "metadata": {
        "collapsed": false
      },
      "outputs": [],
      "source": [
        "estimators = {\n    'Bayesian Ridge': BayesianRidge(),\n    'Decision Tree': DecisionTreeRegressor(),\n    'Random Forest': ExtraTreesRegressor(),\n    'XGBoost': XGBRegressor(),\n    'K-NN': KNeighborsRegressor(weights='distance'),\n    'Least Squares (SGD)': SGDRegressor(loss='squared_loss', \n    early_stopping=True),\n    'Huber (SGD)': SGDRegressor(loss='huber', early_stopping=True),\n    'Support Vector (SGD)': SGDRegressor(loss='epsilon_insensitive', \n    early_stopping=True),\n    'MLP': MLPRegressor(hidden_layer_sizes=32, \n    early_stopping=True, max_iter=100),\n    'Simple Median': SimpleImputer(strategy='median'),\n}"
      ]
    },
    {
      "cell_type": "markdown",
      "metadata": {},
      "source": [
        "## Predict values using imputer \n\n"
      ]
    },
    {
      "cell_type": "code",
      "execution_count": null,
      "metadata": {
        "collapsed": false
      },
      "outputs": [],
      "source": [
        "# Run 5-fold CV for each estimator method\nfor method, imputer_estimator in estimators.items():\n    for k, (train_idx, test_idx) in enumerate(kf5.split(biomarkers_data)):\n\n        # Obtain 1-fold test and 4-fold train sets \n        train_df = biomarkers_df.iloc[train_idx]\n        val_scaled =  min_max_scaler.fit(train_df)\n        train_scaled = val_scaled.transform(train_df)\n        train_scaled_df = pd.DataFrame(train_scaled)\n        train_scaled_copy_df = train_scaled_df.copy(deep=True)\n        \n        test_df = biomarkers_df.iloc[test_idx]\n        test_df.columns = [x for x in range(test_df.shape[1])]\n        test_scaled = val_scaled.transform(test_df)\n        test_scaled_df = pd.DataFrame(test_scaled)\n        test_scaled_copy_df = test_scaled_df.copy(deep=True)\n\n        # Define imputer\n        if method == 'Simple Median':\n            imputer = imputer_estimator\n        else:\n            imputer = IterativeImputer(estimator=imputer_estimator)\n        \n        # Fit on the dataset\n        trained_imputer = imputer.fit(train_scaled_df)\n\n        # Test each biomarker independently\n        for biomarker in test_scaled_df.columns:\n\n            # Use a clean copy of the normalised data set\n            test_with_nan = test_scaled_df.copy(deep=True)\n\n            # Strictly set every biomarker value to NaN\n            col_pos = test_with_nan.columns.get_loc(biomarker)\n            test_with_nan.iloc[::1, col_pos] = np.nan\n\n            # Transform test data using trained imputer\n            test_transformed_data = trained_imputer.transform(test_with_nan)\n\n            # Make dataframe of imputed data\n            imputed_data = pd.DataFrame(data=test_transformed_data, \n            index=[i for i in range(test_transformed_data.shape[0])], \n            columns=test_scaled_df.columns)\n\n            # Inverse transform the scaled values\n            test_og_data = abs(val_scaled.inverse_transform(imputed_data))\n\n            imputed_data_og = pd.DataFrame(data=test_og_data,\n            index=[i for i in range(test_transformed_data.shape[0])], \n            columns=test_scaled_df.columns)\n\n            # Compute true and obtain real value\n            val_pred = imputed_data_og[biomarker].values\n            val_true = test_df[biomarker].values\n\n            # Calculate MSE scores from the true and predicted values\n            rmse_score = get_metric_scores(val_true, val_pred, 'RMSE')\n            rmsle_score = get_metric_scores(val_true, val_pred, 'RMSLE')\n\n            # Store in temp_mse_score_df and temp_rmsle_score_df \n            temp_rmse_score_df.loc[temp_rmse_score_df.index[biomarker], f'K-Fold: {k+1}'] = rmse_score\n            temp_rmsle_score_df.loc[temp_rmsle_score_df.index[biomarker], f'K-Fold: {k+1}'] = rmsle_score\n    \n    # Calculate mean MSE score for each biomarker across the 5-folds\n    rmse_score_df[f'{method}'] = temp_rmse_score_df.mean(axis=1)\n    rmsle_score_df[f'{method}'] = temp_rmsle_score_df.mean(axis=1)"
      ]
    },
    {
      "cell_type": "markdown",
      "metadata": {},
      "source": [
        "## Table of Results: RMSE\n\n"
      ]
    },
    {
      "cell_type": "code",
      "execution_count": null,
      "metadata": {
        "collapsed": false
      },
      "outputs": [],
      "source": [
        "rmse_score_df"
      ]
    },
    {
      "cell_type": "markdown",
      "metadata": {},
      "source": [
        "## Table of Results: RMSlE\n\n"
      ]
    },
    {
      "cell_type": "code",
      "execution_count": null,
      "metadata": {
        "collapsed": false
      },
      "outputs": [],
      "source": [
        "rmsle_score_df"
      ]
    },
    {
      "cell_type": "markdown",
      "metadata": {},
      "source": [
        "## Combined RMSE Plot for each biomarker\n\n"
      ]
    },
    {
      "cell_type": "code",
      "execution_count": null,
      "metadata": {
        "collapsed": false
      },
      "outputs": [],
      "source": [
        "# Plot horizontal bar graph \nfor biomarker, scores in rmse_score_df.iterrows():\n    plt.figure(figsize=(20,15))\n    plt.title(f'RMSE Scores for Biomarker: {biomarker} with Different Iterative Imputation Methods', fontweight='bold', fontsize=25)\n    cmap = ['green' if (x == min(scores)) else 'blue' for x in scores]\n    scores.plot.barh(grid=True, color=cmap)\n    plt.xticks(fontsize=18)\n    plt.yticks(fontsize=18)\n    plt.xlabel('RMSE Score', fontsize=18)\n    plt.show()"
      ]
    }
  ],
  "metadata": {
    "kernelspec": {
      "display_name": "Python 3",
      "language": "python",
      "name": "python3"
    },
    "language_info": {
      "codemirror_mode": {
        "name": "ipython",
        "version": 3
      },
      "file_extension": ".py",
      "mimetype": "text/x-python",
      "name": "python",
      "nbconvert_exporter": "python",
      "pygments_lexer": "ipython3",
      "version": "3.7.6"
    }
  },
  "nbformat": 4,
  "nbformat_minor": 0
}