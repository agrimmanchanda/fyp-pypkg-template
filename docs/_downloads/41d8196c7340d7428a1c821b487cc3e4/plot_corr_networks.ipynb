{
  "cells": [
    {
      "cell_type": "code",
      "execution_count": null,
      "metadata": {
        "collapsed": false
      },
      "outputs": [],
      "source": [
        "%matplotlib inline"
      ]
    },
    {
      "cell_type": "markdown",
      "metadata": {},
      "source": [
        "\n# Network graphs to visualise correlations\n\nUsing ``networkx`` library to visualise biomarker correlations\n"
      ]
    },
    {
      "cell_type": "markdown",
      "metadata": {},
      "source": [
        "Import the relevant libraries first\n\n"
      ]
    },
    {
      "cell_type": "code",
      "execution_count": null,
      "metadata": {
        "collapsed": false
      },
      "outputs": [],
      "source": [
        "import numpy as np \nimport pandas as pd\nimport networkx as nx\nimport matplotlib.pyplot as plt\nimport seaborn as sns\nimport warnings\nwarnings.filterwarnings(\"ignore\")\nfrom pkgname.utils.load_dataset import *"
      ]
    },
    {
      "cell_type": "markdown",
      "metadata": {},
      "source": [
        "## Data import \n\n"
      ]
    },
    {
      "cell_type": "code",
      "execution_count": null,
      "metadata": {
        "collapsed": false
      },
      "outputs": [],
      "source": [
        "# Set relative data path and set FBC panel list\npath_data = '../resources/datasets/nhs/Transformed_First_FBC_dataset.csv'\n\nFBC_CODES = [\"EOS\", \"MONO\", \"BASO\", \"NEUT\", \"RBC\", \"WBC\", \n                \"MCHC\", \"MCV\", \"LY\", \"HCT\", \"RDW\", \"HGB\", \n                \"MCH\", \"PLT\", \"MPV\", \"NRBCA\"]\n\n# Read data and drop Nan _uid records\ndf = pd.read_csv(path_data).dropna(subset=['pid'])\n\ndf.reset_index(drop=True, inplace=True)"
      ]
    },
    {
      "cell_type": "markdown",
      "metadata": {},
      "source": [
        "## Remove data outliers\n\n"
      ]
    },
    {
      "cell_type": "code",
      "execution_count": null,
      "metadata": {
        "collapsed": false
      },
      "outputs": [],
      "source": [
        "# Obtain the biomarkers DataFrame only\nbiomarkers_df = df[FBC_CODES].dropna(subset=FBC_CODES)\n\n# Remove outliers from dataset\ncomplete_profiles, outlier_count = remove_data_outliers(biomarkers_df)\n\n# Constant variables to drop\ndrop_features = ['BASO', 'NRBCA']\n\ncomplete_profiles = complete_profiles.drop(drop_features, axis=1)\n\n# Create array of the data\nbiomarkers_data = complete_profiles.values\n\noutlier_count"
      ]
    },
    {
      "cell_type": "markdown",
      "metadata": {},
      "source": [
        "-------------------------------------\nCalculate data correlations\n------------------------------------- \n\n"
      ]
    },
    {
      "cell_type": "code",
      "execution_count": null,
      "metadata": {
        "collapsed": false
      },
      "outputs": [],
      "source": [
        "# Calculate correlation matrix using Pearson Correlation Coefficient\ncorr_mat = complete_profiles.corr(method='pearson')\n\n# Create a mask\ncorr_mask = np.triu(np.ones_like(corr_mat, dtype=bool))\n\n# Plot seaborn heatmap, histogram and PDF of correlation values.\n\nplt.figure(figsize=(20,8))\nplt.subplot(1,2,1)\nplt.title('Correlation Matrix for FBC panel', \n        fontweight='bold', \n        fontsize=15)\n\nmin_v = corr_mat.values.min()\nmax_v = corr_mat.values.max()\nax = sns.heatmap(\n    corr_mat,\n    mask=corr_mask, \n    vmin=min_v, \n    vmax=max_v, \n    center=0,\n    cmap='coolwarm',\n    square=True,\n    annot = True,\n    annot_kws={\"fontsize\":8}\n)\nax.set_xticklabels(\n    ax.get_xticklabels(),\n    rotation=45,\n    horizontalalignment='right',\n    fontsize=10\n);\n\nax.set_yticklabels(\n    ax.get_yticklabels(),\n    fontsize=10\n);\n\nax.set_yticklabels(complete_profiles.columns)\nax.set_xticklabels(complete_profiles.columns)\n\nplt.subplot(1,2,2)\nplt.title('Histogram and PDF of FBC panel correlations', \n        fontweight='bold', \n        fontsize=15)\nsns.distplot(corr_mat.values.reshape(-1), \n            bins=50, \n            kde_kws={'color': 'red','linewidth': 2}, \n            hist_kws={'edgecolor':'black', 'color': 'midnightblue'})\nplt.ylabel(\"Density\", fontsize=18)\nplt.xlabel(\"Correlation values\", fontsize=15)\nplt.xticks(fontsize=15)\nplt.yticks(fontsize=15)\nplt.grid()\nplt.show()"
      ]
    },
    {
      "cell_type": "markdown",
      "metadata": {},
      "source": [
        "## Correlation statistics\n\n"
      ]
    },
    {
      "cell_type": "code",
      "execution_count": null,
      "metadata": {
        "collapsed": false
      },
      "outputs": [],
      "source": [
        "# Print the mean and std correlation value for each biomarker\n\nstatistics = pd.DataFrame(index=corr_mat.columns)\n\nstatistics.loc[:, 'Mean'] = np.array(corr_mat.mean())\nstatistics.loc[:, 'Std'] = np.array(corr_mat.std())\n\nstatistics"
      ]
    },
    {
      "cell_type": "markdown",
      "metadata": {},
      "source": [
        "## Plotting graphs using networkx\n\n"
      ]
    },
    {
      "cell_type": "code",
      "execution_count": null,
      "metadata": {
        "collapsed": false
      },
      "outputs": [],
      "source": [
        "# Transform correlation matrix in a links data frame (3 columns only):\nlinks = corr_mat.stack().reset_index()\nlinks.columns = ['var1', 'var2', 'value']\n\n# Define thresholds to investigate\nthresholds = [x/10 for x in range(1,5)]\n\n# Define each subplot size\nplt.figure(figsize=(15, 15))\n\nfor plot_idx, threshold in enumerate(thresholds, start=1):\n    \n    # Keep only correlation over a threshold and remove self-correlations\n    idx1 = abs(links['value'] > threshold) # absolute value above threshold \n    idx2 = links['var1'] != links['var2'] # self correlation\n    links_filtered=links[idx1 & idx2]\n\n    # Build graph\n    G=nx.from_pandas_edgelist(links_filtered, 'var1', 'var2', 'value')\n\n    # Get weights of the edges \n    weights = tuple(nx.get_edge_attributes(G,'value').values())\n    \n    # Get the degree of the nodes \n    degree = [v for k, v in nx.degree(G)]\n    \n    # Set for circular networks only\n    pos = nx.circular_layout(G)\n\n    plt.subplot(2, 2, plot_idx)\n\n    # Draw the graph\n    nx.draw(G, with_labels=True,pos=pos, \n            edge_cmap = plt.cm.Blues,  \n            node_color='skyblue', \n            node_size=[d * 800 for d in degree], \n            linewidths=2, \n            font_size=16, \n            edge_color=weights, \n            edgecolors='black',\n            font_weight='bold',\n            width=3\n            )\n    plt.title(f'Network with weight threshold: {threshold}', \n            fontweight='bold', \n            fontsize=16)\n    plt.axis('off')\n    axis = plt.gca()\n    axis.set_xlim([1.5*x for x in axis.get_xlim()])\n    axis.set_ylim([1.5*y for y in axis.get_ylim()])\n\n# Space out the plots\nplt.tight_layout()\n\n# Show\nplt.show()"
      ]
    }
  ],
  "metadata": {
    "kernelspec": {
      "display_name": "Python 3",
      "language": "python",
      "name": "python3"
    },
    "language_info": {
      "codemirror_mode": {
        "name": "ipython",
        "version": 3
      },
      "file_extension": ".py",
      "mimetype": "text/x-python",
      "name": "python",
      "nbconvert_exporter": "python",
      "pygments_lexer": "ipython3",
      "version": "3.7.6"
    }
  },
  "nbformat": 4,
  "nbformat_minor": 0
}