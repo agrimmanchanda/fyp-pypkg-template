{
  "cells": [
    {
      "cell_type": "code",
      "execution_count": null,
      "metadata": {
        "collapsed": false
      },
      "outputs": [],
      "source": [
        "%matplotlib inline"
      ]
    },
    {
      "cell_type": "markdown",
      "metadata": {},
      "source": [
        "\n# Network graphs to visualise correlations\n\nUsing ``networkx`` library to visualise biomarker correlations\n"
      ]
    },
    {
      "cell_type": "markdown",
      "metadata": {},
      "source": [
        "Import the relevant libraries first\n\n"
      ]
    },
    {
      "cell_type": "code",
      "execution_count": null,
      "metadata": {
        "collapsed": false
      },
      "outputs": [],
      "source": [
        "import numpy as np \nimport pandas as pd\nimport networkx as nx\nimport matplotlib.pyplot as plt\nimport seaborn as sns\nimport warnings\nwarnings.filterwarnings(\"ignore\")\nfrom pkgname.utils.widgets import TidyWidget"
      ]
    },
    {
      "cell_type": "markdown",
      "metadata": {},
      "source": [
        "## Data handling\nFirst, let's define the data set path and relevant variables of interest\n\n"
      ]
    },
    {
      "cell_type": "code",
      "execution_count": null,
      "metadata": {
        "collapsed": false
      },
      "outputs": [],
      "source": [
        "path_data = 'datasets/pathology-sample-march-may.csv'\n\nFBC_codes = [\"EOS\", \"MONO\", \"BASO\", \"NEUT\", \"RBC\", \"WBC\", \n                \"MCHC\", \"MCV\", \"LY\", \"HCT\", \"RDW\", \"HGB\", \n                \"MCH\", \"PLT\", \"MPV\", \"NRBCA\"]\n\nINTEREST_cols = [\"_uid\", \"orderCode\", \"result\", \"dateResult\"]"
      ]
    },
    {
      "cell_type": "markdown",
      "metadata": {},
      "source": [
        "Next, import only variables of interest and FBC panel results\n\n"
      ]
    },
    {
      "cell_type": "code",
      "execution_count": null,
      "metadata": {
        "collapsed": false
      },
      "outputs": [],
      "source": [
        "df = pd.read_csv(path_data, usecols=INTEREST_cols)\n\ndf = df.loc[df['orderCode'].isin(FBC_codes)]\n\ndf = df.dropna() # drop records of patients with NaN _uid\n\ndf.reset_index(drop=True, inplace=True)\n\n# Define function to set pid (patient ID) sorted by datetime\n\ndef change_pid_datetime_format(df):\n    df['pid'] = df['_uid'].str.extract('(\\d+)').astype(int)\n\n    pid_col = df.pop('pid')\n\n    df.insert(0, 'pid', pid_col)\n\n    df.drop('_uid', inplace=True, axis=1)\n\n    df.sort_values(by=['pid', 'dateResult'], inplace=True)\n\n    return df"
      ]
    },
    {
      "cell_type": "markdown",
      "metadata": {},
      "source": [
        "## Transform data using TidyWidget\n\n"
      ]
    },
    {
      "cell_type": "code",
      "execution_count": null,
      "metadata": {
        "collapsed": false
      },
      "outputs": [],
      "source": [
        "# Parameters\nindex = ['_uid', 'dateResult', 'orderCode']\nvalue = 'result'\n\n# Create widget\nwidget = TidyWidget(index=index, value=value)\n\n# Transform (keep all)\ntransform, duplicated = \\\n    widget.transform(df, report_duplicated=True)\n\n# Set pid for each patient and sort accordingly\ntransform_fmt = change_pid_datetime_format(transform)\n\n# Transform (keep first)\ntransform_first = \\\n    widget.transform(df, keep='first')\n\n# Set pid for each patient and sort accordingly\ntransform_first_fmt = change_pid_datetime_format(transform_first)"
      ]
    },
    {
      "cell_type": "markdown",
      "metadata": {},
      "source": [
        "## Correlation matrix\n\n"
      ]
    },
    {
      "cell_type": "code",
      "execution_count": null,
      "metadata": {
        "collapsed": false
      },
      "outputs": [],
      "source": [
        "# Obtain the biomarkers DataFrame only\nbiomarkers_df = transform_fmt.iloc[:,2:]\n\n# Calculate correlation matrix using Pearson Correlation Coefficient\ncorr_mat = biomarkers_df.dropna().corr()\n\n# Plot seaborn heatmap, histogram and PDF of correlation values.\n\nplt.figure(figsize=(20,8))\nplt.subplot(1,2,1)\nplt.title('Correlation Matrix for FBC panel', fontweight='bold', fontsize=15)\n\nmin_v = corr_mat.values.min()\nax = sns.heatmap(\n    corr_mat, \n    vmin=min_v, vmax=1, center=0,\n    cmap=sns.diverging_palette(20, 220, n=200),\n    square=True,\n    annot = True,\n    annot_kws={\"fontsize\":8}\n)\nax.set_xticklabels(\n    ax.get_xticklabels(),\n    rotation=45,\n    horizontalalignment='right',\n    fontsize=15\n);\n\nax.set_yticklabels(\n    ax.get_yticklabels(),\n    fontsize=15\n);\n\nax.set_yticklabels(biomarkers_df.columns)\nax.set_xticklabels(biomarkers_df.columns)\n\nplt.subplot(1,2,2)\nplt.title('Histogram and PDF of FBC panel correlations', fontweight='bold', fontsize=15)\nsns.distplot(corr_mat.values.reshape(-1), bins=50, kde_kws={'color': 'red','linewidth': 2, }, hist_kws={'edgecolor':'black'})\nplt.ylabel(\"Density\", fontsize=18)\nplt.xlabel(\"Correlation values\", fontsize=15)\nplt.xticks(fontsize=15)\nplt.yticks(fontsize=15)\nplt.grid()\nplt.show()\n\n# Print the mean correlation value for each biomarker\n\nprint(\"\\nSorted mean correlation values by biomarkers:\")\nprint(corr_mat.mean(1).sort_values(ascending=False))"
      ]
    },
    {
      "cell_type": "markdown",
      "metadata": {},
      "source": [
        "## Plotting graphs using networkx\n\n"
      ]
    },
    {
      "cell_type": "code",
      "execution_count": null,
      "metadata": {
        "collapsed": false
      },
      "outputs": [],
      "source": [
        "thresholds = [x/10 for x in range(4,10)]\n\n# for each threshold value\nfor threshold in thresholds:\n\n    # Transform correlation matrix in a links data frame (3 columns only):\n    links = corr_mat.stack().reset_index()\n    links.columns = ['var1', 'var2', 'value']\n    \n    # Keep only correlation over a threshold and remove self correlation (cor(A,A)=1)\n    links_filtered=links.loc[ (links['value'] > threshold) & (links['var1'] != links['var2']) ]\n    \n    # Build graph\n    G=nx.from_pandas_edgelist(links_filtered, 'var1', 'var2', 'value')\n\n    pos = nx.spring_layout(G, k=0.45, iterations=20)\n\n    plt.figure(figsize=(15,5))\n    plt.title(f'Graph with Weight Threshold: {threshold}', fontweight='bold', fontsize=16)\n    # Plot the network:\n    nx.draw(G, with_labels=True,pos=pos, node_color='orange', node_size=1500, linewidths=2, font_size=12, edge_color='black', edgecolors='black')\n    plt.axis('off')\n    axis = plt.gca()\n    axis.set_xlim([1.2*x for x in axis.get_xlim()])\n    axis.set_ylim([1.2*y for y in axis.get_ylim()])\n    plt.show()"
      ]
    }
  ],
  "metadata": {
    "kernelspec": {
      "display_name": "Python 3",
      "language": "python",
      "name": "python3"
    },
    "language_info": {
      "codemirror_mode": {
        "name": "ipython",
        "version": 3
      },
      "file_extension": ".py",
      "mimetype": "text/x-python",
      "name": "python",
      "nbconvert_exporter": "python",
      "pygments_lexer": "ipython3",
      "version": "3.7.6"
    }
  },
  "nbformat": 4,
  "nbformat_minor": 0
}