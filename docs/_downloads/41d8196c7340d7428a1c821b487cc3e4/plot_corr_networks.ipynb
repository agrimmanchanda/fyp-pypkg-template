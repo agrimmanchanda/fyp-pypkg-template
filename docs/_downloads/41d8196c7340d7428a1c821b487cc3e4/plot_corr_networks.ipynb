{
  "cells": [
    {
      "cell_type": "code",
      "execution_count": null,
      "metadata": {
        "collapsed": false
      },
      "outputs": [],
      "source": [
        "%matplotlib inline"
      ]
    },
    {
      "cell_type": "markdown",
      "metadata": {},
      "source": [
        "\n# Network graphs to visualise correlations\n\nUsing ``networkx`` library to visualise biomarker correlations\n"
      ]
    },
    {
      "cell_type": "markdown",
      "metadata": {},
      "source": [
        "Import the relevant libraries first\n\n"
      ]
    },
    {
      "cell_type": "code",
      "execution_count": null,
      "metadata": {
        "collapsed": false
      },
      "outputs": [],
      "source": [
        "import numpy as np \nimport pandas as pd\nimport networkx as nx\nimport matplotlib.pyplot as plt\nimport seaborn as sns\nimport warnings\nwarnings.filterwarnings(\"ignore\")\nfrom pkgname.utils.widgets import TidyWidget"
      ]
    },
    {
      "cell_type": "markdown",
      "metadata": {},
      "source": [
        "## Data import \n\n"
      ]
    },
    {
      "cell_type": "code",
      "execution_count": null,
      "metadata": {
        "collapsed": false
      },
      "outputs": [],
      "source": [
        "# Set relative data path and set FBC panel list\npath_data = 'datasets/Transformed_First_FBC_dataset.csv'\n\nFBC_CODES = [\"EOS\", \"MONO\", \"BASO\", \"NEUT\", \"RBC\", \"WBC\", \n                \"MCHC\", \"MCV\", \"LY\", \"HCT\", \"RDW\", \"HGB\", \n                \"MCH\", \"PLT\", \"MPV\", \"NRBCA\"]\n\n# Read data and drop Nan _uid records\ndf = pd.read_csv(path_data).dropna(subset=['pid'])\n\ndf.reset_index(drop=True, inplace=True)"
      ]
    },
    {
      "cell_type": "markdown",
      "metadata": {},
      "source": [
        "## Split data into input and output\n\n"
      ]
    },
    {
      "cell_type": "code",
      "execution_count": null,
      "metadata": {
        "collapsed": false
      },
      "outputs": [],
      "source": [
        "# Obtain the biomarkers DataFrame only\nbiomarkers_df = df[FBC_CODES].dropna(subset=FBC_CODES)\n\nbiomarkers_original_df_copy = biomarkers_df.copy(deep=True)\n\nbiomarkers_data = biomarkers_df.values\n\n# Calculate correlation matrix using Pearson Correlation Coefficient\ncorr_mat = biomarkers_df.dropna().corr(method='pearson')\n\n# Create a mask\ncorr_mask = np.triu(np.ones_like(corr_mat, dtype=bool))\n\n# Plot seaborn heatmap, histogram and PDF of correlation values.\n\nplt.figure(figsize=(20,8))\nplt.subplot(1,2,1)\nplt.title('Correlation Matrix for FBC panel', fontweight='bold', fontsize=15)\n\nmin_v = corr_mat.values.min()\nax = sns.heatmap(\n    corr_mat,\n    mask=corr_mask, \n    vmin=min_v, vmax=1, center=0,\n    cmap=sns.diverging_palette(20, 220, n=200),\n    square=True,\n    annot = True,\n    annot_kws={\"fontsize\":8}\n)\nax.set_xticklabels(\n    ax.get_xticklabels(),\n    rotation=45,\n    horizontalalignment='right',\n    fontsize=15\n);\n\nax.set_yticklabels(\n    ax.get_yticklabels(),\n    fontsize=15\n);\n\nax.set_yticklabels(biomarkers_df.columns)\nax.set_xticklabels(biomarkers_df.columns)\n\nplt.subplot(1,2,2)\nplt.title('Histogram and PDF of FBC panel correlations', fontweight='bold', fontsize=15)\nsns.distplot(corr_mat.values.reshape(-1), bins=50, kde_kws={'color': 'red','linewidth': 2, }, hist_kws={'edgecolor':'black'})\nplt.ylabel(\"Density\", fontsize=18)\nplt.xlabel(\"Correlation values\", fontsize=15)\nplt.xticks(fontsize=15)\nplt.yticks(fontsize=15)\nplt.grid()\nplt.show()\n\n# Print the mean correlation value for each biomarker\n\nprint(\"\\nSorted mean correlation values by biomarkers:\")\nprint(corr_mat.mean(1).sort_values(ascending=False))"
      ]
    },
    {
      "cell_type": "markdown",
      "metadata": {},
      "source": [
        "## Plotting graphs using networkx\n\n"
      ]
    },
    {
      "cell_type": "code",
      "execution_count": null,
      "metadata": {
        "collapsed": false
      },
      "outputs": [],
      "source": [
        "thresholds = [x/10 for x in range(4,10)]\n\n# for each threshold value\nfor threshold in thresholds:\n\n    # Transform correlation matrix in a links data frame (3 columns only):\n    links = corr_mat.stack().reset_index()\n    links.columns = ['var1', 'var2', 'value']\n    \n    # Keep only correlation over a threshold and remove self correlation (cor(A,A)=1)\n    idx1 = links['value'] > threshold # above threshold \n    idx2 = links['var1'] != links['var2'] # self correlation\n    links_filtered=links[idx1 & idx2]\n    \n    # Build graph\n    G=nx.from_pandas_edgelist(links_filtered, 'var1', 'var2', 'value')\n\n    # Adjust position for spring layout\n    pos = nx.spring_layout(G, k=0.45, iterations=20)\n\n    # Set plot parameters and draw networks\n    plt.figure(figsize=(15,5))\n    plt.title(f'Graph with Weight Threshold: {threshold}', fontweight='bold', fontsize=16)\n    nx.draw(G, with_labels=True,pos=pos, node_color='orange', node_size=1500, linewidths=2, font_size=12, edge_color='black', edgecolors='black')\n    plt.axis('off')\n    axis = plt.gca()\n    axis.set_xlim([1.2*x for x in axis.get_xlim()])\n    axis.set_ylim([1.2*y for y in axis.get_ylim()])\n    \n    # Show\n    plt.show()"
      ]
    }
  ],
  "metadata": {
    "kernelspec": {
      "display_name": "Python 3",
      "language": "python",
      "name": "python3"
    },
    "language_info": {
      "codemirror_mode": {
        "name": "ipython",
        "version": 3
      },
      "file_extension": ".py",
      "mimetype": "text/x-python",
      "name": "python",
      "nbconvert_exporter": "python",
      "pygments_lexer": "ipython3",
      "version": "3.7.6"
    }
  },
  "nbformat": 4,
  "nbformat_minor": 0
}